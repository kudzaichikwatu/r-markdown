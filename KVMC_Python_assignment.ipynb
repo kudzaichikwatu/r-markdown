{
  "nbformat": 4,
  "nbformat_minor": 0,
  "metadata": {
    "colab": {
      "name": "KVMC Python assignment.ipynb",
      "provenance": [],
      "toc_visible": true,
      "include_colab_link": true
    },
    "kernelspec": {
      "name": "python3",
      "display_name": "Python 3"
    },
    "language_info": {
      "name": "python"
    }
  },
  "cells": [
    {
      "cell_type": "markdown",
      "metadata": {
        "id": "view-in-github",
        "colab_type": "text"
      },
      "source": [
        "<a href=\"https://colab.research.google.com/github/kudzaichikwatu/r-markdown/blob/main/KVMC_Python_assignment.ipynb\" target=\"_parent\"><img src=\"https://colab.research.google.com/assets/colab-badge.svg\" alt=\"Open In Colab\"/></a>"
      ]
    },
    {
      "cell_type": "code",
      "metadata": {
        "id": "FAZOL5JdIsu6"
      },
      "source": [
        ""
      ],
      "execution_count": null,
      "outputs": []
    },
    {
      "cell_type": "markdown",
      "metadata": {
        "id": "0jwvnfSPJqO3"
      },
      "source": [
        "# My first python assignment\n",
        " "
      ]
    },
    {
      "cell_type": "code",
      "metadata": {
        "colab": {
          "base_uri": "https://localhost:8080/",
          "height": 35
        },
        "id": "PMcSN_0bKZpt",
        "outputId": "f27315cd-36f1-49bf-9d85-32df5a561ed2"
      },
      "source": [
        "\"\"\"\n",
        "first code will look at strings\n",
        "second code will do calculations\n",
        "third code will do data importation\n",
        "\"\"\"\n",
        "\n"
      ],
      "execution_count": null,
      "outputs": [
        {
          "output_type": "execute_result",
          "data": {
            "application/vnd.google.colaboratory.intrinsic+json": {
              "type": "string"
            },
            "text/plain": [
              "'\\nfirst code will look at strings\\nsecond code will do calculations\\nthird code will do data importation\\n'"
            ]
          },
          "metadata": {
            "tags": []
          },
          "execution_count": 11
        }
      ]
    },
    {
      "cell_type": "code",
      "metadata": {
        "id": "shKqzhE_L3zR"
      },
      "source": [
        ""
      ],
      "execution_count": null,
      "outputs": []
    },
    {
      "cell_type": "markdown",
      "metadata": {
        "id": "ffgODZT5L5Mc"
      },
      "source": [
        "# First Code"
      ]
    },
    {
      "cell_type": "code",
      "metadata": {
        "colab": {
          "base_uri": "https://localhost:8080/"
        },
        "id": "GZO0nvGEL94v",
        "outputId": "d8defb5b-8e76-4c86-e130-e3b2a57af220"
      },
      "source": [
        "my_name = 'Kudzai Vanessa Modesta Chikwatu'\n",
        "print (my_name)"
      ],
      "execution_count": null,
      "outputs": [
        {
          "output_type": "stream",
          "text": [
            "Kudzai Vanessa Modesta Chikwatu\n"
          ],
          "name": "stdout"
        }
      ]
    },
    {
      "cell_type": "code",
      "metadata": {
        "colab": {
          "base_uri": "https://localhost:8080/"
        },
        "id": "zUDD0HJkMdVE",
        "outputId": "56065f35-9e3a-486e-afff-603b7f8a0761"
      },
      "source": [
        "name_string = ['Kudzai', 'Vanessa', 'Modesta', 'Chikwatu']\n",
        "print (name_string)"
      ],
      "execution_count": null,
      "outputs": [
        {
          "output_type": "stream",
          "text": [
            "['Kudzai', 'Vanessa', 'Modesta', 'Chikwatu']\n"
          ],
          "name": "stdout"
        }
      ]
    },
    {
      "cell_type": "markdown",
      "metadata": {
        "id": "VIVfRcyVNcqP"
      },
      "source": [
        "# Second Code"
      ]
    },
    {
      "cell_type": "code",
      "metadata": {
        "id": "29LfQWSWNhRp"
      },
      "source": [
        "def add_numbers(num1,num2,num3):\n",
        "  return num1 + num2 + num3"
      ],
      "execution_count": null,
      "outputs": []
    },
    {
      "cell_type": "code",
      "metadata": {
        "colab": {
          "base_uri": "https://localhost:8080/"
        },
        "id": "Vouacd2NOXH3",
        "outputId": "775b296f-61bb-42c0-a00a-61d4f51d9084"
      },
      "source": [
        "add_numbers(7,3,10)"
      ],
      "execution_count": null,
      "outputs": [
        {
          "output_type": "execute_result",
          "data": {
            "text/plain": [
              "20"
            ]
          },
          "metadata": {
            "tags": []
          },
          "execution_count": 9
        }
      ]
    },
    {
      "cell_type": "code",
      "metadata": {
        "colab": {
          "base_uri": "https://localhost:8080/"
        },
        "id": "vMd9znBkOZth",
        "outputId": "c5b72f2a-c809-4f51-b4dc-c1ecc13e6984"
      },
      "source": [
        "add_numbers(-90,120,50)"
      ],
      "execution_count": null,
      "outputs": [
        {
          "output_type": "execute_result",
          "data": {
            "text/plain": [
              "80"
            ]
          },
          "metadata": {
            "tags": []
          },
          "execution_count": 10
        }
      ]
    },
    {
      "cell_type": "markdown",
      "metadata": {
        "id": "AKq4y_jnOpo0"
      },
      "source": [
        "#  Third Code"
      ]
    },
    {
      "cell_type": "code",
      "metadata": {
        "id": "uqYSjGAYOurX"
      },
      "source": [
        "import pandas as pd"
      ],
      "execution_count": null,
      "outputs": []
    },
    {
      "cell_type": "code",
      "metadata": {
        "id": "4-uek97kPcYr"
      },
      "source": [
        "df = pd.read_csv('/content/alcohol.csv')"
      ],
      "execution_count": null,
      "outputs": []
    },
    {
      "cell_type": "code",
      "metadata": {
        "colab": {
          "base_uri": "https://localhost:8080/",
          "height": 533
        },
        "id": "VJXZGEVyQICf",
        "outputId": "b09f9dff-57d0-4af7-d399-048449513f7d"
      },
      "source": [
        "df.head(4)"
      ],
      "execution_count": null,
      "outputs": [
        {
          "output_type": "execute_result",
          "data": {
            "text/html": [
              "<div>\n",
              "<style scoped>\n",
              "    .dataframe tbody tr th:only-of-type {\n",
              "        vertical-align: middle;\n",
              "    }\n",
              "\n",
              "    .dataframe tbody tr th {\n",
              "        vertical-align: top;\n",
              "    }\n",
              "\n",
              "    .dataframe thead th {\n",
              "        text-align: right;\n",
              "    }\n",
              "</style>\n",
              "<table border=\"1\" class=\"dataframe\">\n",
              "  <thead>\n",
              "    <tr style=\"text-align: right;\">\n",
              "      <th></th>\n",
              "      <th>Series_reference</th>\n",
              "      <th>Period</th>\n",
              "      <th>Data_value</th>\n",
              "      <th>STATUS</th>\n",
              "      <th>UNITS</th>\n",
              "      <th>MAGNTUDE</th>\n",
              "      <th>Subject</th>\n",
              "      <th>Group</th>\n",
              "      <th>Series_title_1</th>\n",
              "      <th>Series_title_2</th>\n",
              "      <th>Series_title_3</th>\n",
              "      <th>Series_title_4</th>\n",
              "      <th>Series_title_5</th>\n",
              "    </tr>\n",
              "  </thead>\n",
              "  <tbody>\n",
              "    <tr>\n",
              "      <th>0</th>\n",
              "      <td>ALCA.S1</td>\n",
              "      <td>1935.12</td>\n",
              "      <td>51.1</td>\n",
              "      <td>FINAL</td>\n",
              "      <td>Litres (million)</td>\n",
              "      <td>6</td>\n",
              "      <td>Alcohol Available for Consumption - ALC</td>\n",
              "      <td>(DISC) Volume &amp; Volume Per Head</td>\n",
              "      <td>Beer</td>\n",
              "      <td>NaN</td>\n",
              "      <td>NaN</td>\n",
              "      <td>NaN</td>\n",
              "      <td>NaN</td>\n",
              "    </tr>\n",
              "    <tr>\n",
              "      <th>1</th>\n",
              "      <td>ALCA.S1</td>\n",
              "      <td>1936.12</td>\n",
              "      <td>58.7</td>\n",
              "      <td>FINAL</td>\n",
              "      <td>Litres (million)</td>\n",
              "      <td>6</td>\n",
              "      <td>Alcohol Available for Consumption - ALC</td>\n",
              "      <td>(DISC) Volume &amp; Volume Per Head</td>\n",
              "      <td>Beer</td>\n",
              "      <td>NaN</td>\n",
              "      <td>NaN</td>\n",
              "      <td>NaN</td>\n",
              "      <td>NaN</td>\n",
              "    </tr>\n",
              "    <tr>\n",
              "      <th>2</th>\n",
              "      <td>ALCA.S1</td>\n",
              "      <td>1937.12</td>\n",
              "      <td>68.7</td>\n",
              "      <td>FINAL</td>\n",
              "      <td>Litres (million)</td>\n",
              "      <td>6</td>\n",
              "      <td>Alcohol Available for Consumption - ALC</td>\n",
              "      <td>(DISC) Volume &amp; Volume Per Head</td>\n",
              "      <td>Beer</td>\n",
              "      <td>NaN</td>\n",
              "      <td>NaN</td>\n",
              "      <td>NaN</td>\n",
              "      <td>NaN</td>\n",
              "    </tr>\n",
              "    <tr>\n",
              "      <th>3</th>\n",
              "      <td>ALCA.S1</td>\n",
              "      <td>1938.12</td>\n",
              "      <td>78.1</td>\n",
              "      <td>FINAL</td>\n",
              "      <td>Litres (million)</td>\n",
              "      <td>6</td>\n",
              "      <td>Alcohol Available for Consumption - ALC</td>\n",
              "      <td>(DISC) Volume &amp; Volume Per Head</td>\n",
              "      <td>Beer</td>\n",
              "      <td>NaN</td>\n",
              "      <td>NaN</td>\n",
              "      <td>NaN</td>\n",
              "      <td>NaN</td>\n",
              "    </tr>\n",
              "  </tbody>\n",
              "</table>\n",
              "</div>"
            ],
            "text/plain": [
              "  Series_reference   Period  ...  Series_title_4 Series_title_5\n",
              "0          ALCA.S1  1935.12  ...             NaN            NaN\n",
              "1          ALCA.S1  1936.12  ...             NaN            NaN\n",
              "2          ALCA.S1  1937.12  ...             NaN            NaN\n",
              "3          ALCA.S1  1938.12  ...             NaN            NaN\n",
              "\n",
              "[4 rows x 13 columns]"
            ]
          },
          "metadata": {
            "tags": []
          },
          "execution_count": 14
        }
      ]
    },
    {
      "cell_type": "code",
      "metadata": {
        "colab": {
          "base_uri": "https://localhost:8080/"
        },
        "id": "JI9n5QUMQOcn",
        "outputId": "3e72a4ac-008d-4b20-953f-12a84b1f145d"
      },
      "source": [
        "df.info()"
      ],
      "execution_count": null,
      "outputs": [
        {
          "output_type": "stream",
          "text": [
            "<class 'pandas.core.frame.DataFrame'>\n",
            "RangeIndex: 11424 entries, 0 to 11423\n",
            "Data columns (total 13 columns):\n",
            " #   Column            Non-Null Count  Dtype  \n",
            "---  ------            --------------  -----  \n",
            " 0   Series_reference  11424 non-null  object \n",
            " 1   Period            11424 non-null  float64\n",
            " 2   Data_value        11419 non-null  float64\n",
            " 3   STATUS            11424 non-null  object \n",
            " 4   UNITS             11424 non-null  object \n",
            " 5   MAGNTUDE          11424 non-null  int64  \n",
            " 6   Subject           11424 non-null  object \n",
            " 7   Group             11424 non-null  object \n",
            " 8   Series_title_1    11424 non-null  object \n",
            " 9   Series_title_2    0 non-null      float64\n",
            " 10  Series_title_3    0 non-null      float64\n",
            " 11  Series_title_4    0 non-null      float64\n",
            " 12  Series_title_5    0 non-null      float64\n",
            "dtypes: float64(6), int64(1), object(6)\n",
            "memory usage: 1.1+ MB\n"
          ],
          "name": "stdout"
        }
      ]
    },
    {
      "cell_type": "code",
      "metadata": {
        "colab": {
          "base_uri": "https://localhost:8080/",
          "height": 35
        },
        "id": "RK6k5JHyfoZW",
        "outputId": "f27315cd-36f1-49bf-9d85-32df5a561ed2"
      },
      "source": [
        "\"\"\"\n",
        "first code will look at strings\n",
        "second code will do calculations\n",
        "third code will do data importation\n",
        "\"\"\"\n",
        "\n"
      ],
      "execution_count": null,
      "outputs": [
        {
          "output_type": "execute_result",
          "data": {
            "application/vnd.google.colaboratory.intrinsic+json": {
              "type": "string"
            },
            "text/plain": [
              "'\\nfirst code will look at strings\\nsecond code will do calculations\\nthird code will do data importation\\n'"
            ]
          },
          "metadata": {
            "tags": []
          },
          "execution_count": 11
        }
      ]
    },
    {
      "cell_type": "code",
      "metadata": {
        "id": "8CCX9r44foZf"
      },
      "source": [
        ""
      ],
      "execution_count": null,
      "outputs": []
    },
    {
      "cell_type": "markdown",
      "metadata": {
        "id": "zDm92lInfoZf"
      },
      "source": [
        "# First Code"
      ]
    },
    {
      "cell_type": "code",
      "metadata": {
        "colab": {
          "base_uri": "https://localhost:8080/"
        },
        "id": "xwwJHLePfoZg",
        "outputId": "d8defb5b-8e76-4c86-e130-e3b2a57af220"
      },
      "source": [
        "my_name = 'Kudzai Vanessa Modesta Chikwatu'\n",
        "print (my_name)"
      ],
      "execution_count": null,
      "outputs": [
        {
          "output_type": "stream",
          "text": [
            "Kudzai Vanessa Modesta Chikwatu\n"
          ],
          "name": "stdout"
        }
      ]
    },
    {
      "cell_type": "code",
      "metadata": {
        "colab": {
          "base_uri": "https://localhost:8080/"
        },
        "id": "0I179vnffoZh",
        "outputId": "56065f35-9e3a-486e-afff-603b7f8a0761"
      },
      "source": [
        "name_string = ['Kudzai', 'Vanessa', 'Modesta', 'Chikwatu']\n",
        "print (name_string)"
      ],
      "execution_count": null,
      "outputs": [
        {
          "output_type": "stream",
          "text": [
            "['Kudzai', 'Vanessa', 'Modesta', 'Chikwatu']\n"
          ],
          "name": "stdout"
        }
      ]
    },
    {
      "cell_type": "markdown",
      "metadata": {
        "id": "McTeyWTlfoZh"
      },
      "source": [
        "# Second Code"
      ]
    },
    {
      "cell_type": "code",
      "metadata": {
        "id": "ki7rR4htfoZi"
      },
      "source": [
        "def add_numbers(num1,num2,num3):\n",
        "  return num1 + num2 + num3"
      ],
      "execution_count": null,
      "outputs": []
    },
    {
      "cell_type": "code",
      "metadata": {
        "colab": {
          "base_uri": "https://localhost:8080/"
        },
        "id": "BWgWTcmHfoZi",
        "outputId": "775b296f-61bb-42c0-a00a-61d4f51d9084"
      },
      "source": [
        "add_numbers(7,3,10)"
      ],
      "execution_count": null,
      "outputs": [
        {
          "output_type": "execute_result",
          "data": {
            "text/plain": [
              "20"
            ]
          },
          "metadata": {
            "tags": []
          },
          "execution_count": 9
        }
      ]
    },
    {
      "cell_type": "code",
      "metadata": {
        "colab": {
          "base_uri": "https://localhost:8080/"
        },
        "id": "RbP_HZNTfoZj",
        "outputId": "c5b72f2a-c809-4f51-b4dc-c1ecc13e6984"
      },
      "source": [
        "add_numbers(-90,120,50)"
      ],
      "execution_count": null,
      "outputs": [
        {
          "output_type": "execute_result",
          "data": {
            "text/plain": [
              "80"
            ]
          },
          "metadata": {
            "tags": []
          },
          "execution_count": 10
        }
      ]
    }
  ]
}